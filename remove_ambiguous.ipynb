{
 "cells": [
  {
   "cell_type": "code",
   "execution_count": 1,
   "metadata": {},
   "outputs": [],
   "source": [
    "from Bio import SeqIO\n",
    "\n",
    "def has_ambiguous_nucleotides(sequence):\n",
    "    ambiguous_nucleotides = {'N', 'R', 'Y', 'S', 'W', 'K', 'M', 'B', 'D', 'H', 'V'}\n",
    "    for nucleotide in sequence:\n",
    "        if nucleotide.upper() in ambiguous_nucleotides:\n",
    "            return True\n",
    "    return False\n",
    "\n",
    "def filter_sequences(input_file, output_file):\n",
    "    with open(output_file, 'w') as out_handle:\n",
    "        for record in SeqIO.parse(input_file, 'fasta'):\n",
    "            sequence = str(record.seq)\n",
    "            if not has_ambiguous_nucleotides(sequence):\n",
    "                SeqIO.write(record, out_handle, 'fasta')\n",
    "\n",
    "input_file = 'extracted_CDS_full.fasta'\n",
    "output_file = 'CDS_no_ambiguous.fasta'\n",
    "filter_sequences(input_file, output_file)\n"
   ]
  }
 ],
 "metadata": {
  "kernelspec": {
   "display_name": "Python 3",
   "language": "python",
   "name": "python3"
  },
  "language_info": {
   "codemirror_mode": {
    "name": "ipython",
    "version": 3
   },
   "file_extension": ".py",
   "mimetype": "text/x-python",
   "name": "python",
   "nbconvert_exporter": "python",
   "pygments_lexer": "ipython3",
   "version": "3.11.8"
  }
 },
 "nbformat": 4,
 "nbformat_minor": 2
}
