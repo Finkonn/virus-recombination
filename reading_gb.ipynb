{
 "cells": [
  {
   "cell_type": "code",
   "execution_count": 1,
   "metadata": {},
   "outputs": [],
   "source": [
    "from Bio import SeqIO"
   ]
  },
  {
   "cell_type": "code",
   "execution_count": 2,
   "metadata": {},
   "outputs": [],
   "source": [
    "file_path = 'sequences.gb'"
   ]
  },
  {
   "cell_type": "code",
   "execution_count": 3,
   "metadata": {},
   "outputs": [],
   "source": [
    "genbank_records = SeqIO.parse(file_path, 'gb')"
   ]
  },
  {
   "cell_type": "code",
   "execution_count": 4,
   "metadata": {},
   "outputs": [],
   "source": [
    "hosts = []\n",
    "collection_dates = []\n",
    "lacking = []\n",
    "number_of_records = 0\n",
    "CDS_count = 0\n",
    "\n",
    "for record in genbank_records:\n",
    "    features = record.features\n",
    "    CDS_list = [ i for i in features if i.type == 'CDS']\n",
    "    source_feature_list = [ i for i in features if i.type == 'source' ]\n",
    "\n",
    "    for i in source_feature_list:\n",
    "        qual_dict = i.qualifiers\n",
    "        if ('host' or 'collection_date') not in qual_dict.keys():\n",
    "            lacking.append(record.id)\n",
    "\n",
    "        for key in qual_dict.keys():\n",
    "            if key == 'host':\n",
    "                hosts.append(qual_dict[key])\n",
    "            elif key == 'collection_date':\n",
    "                collection_dates.append(qual_dict[key])\n",
    "\n",
    "    number_of_records += 1\n",
    "    CDS_count += len(CDS_list)"
   ]
  },
  {
   "cell_type": "code",
   "execution_count": 5,
   "metadata": {},
   "outputs": [
    {
     "name": "stdout",
     "output_type": "stream",
     "text": [
      "Number of records:  507\n",
      "Number of sequences with CDS field:  507\n",
      "Number of sequences with known host:  486\n",
      "Number of sequences with known collection date:  507\n",
      "Sequences lacking information:  21\n"
     ]
    }
   ],
   "source": [
    "print('Number of records: ', number_of_records)\n",
    "print('Number of sequences with CDS field: ', CDS_count)\n",
    "print('Number of sequences with known host: ', len(hosts))\n",
    "print('Number of sequences with known collection date: ', len(collection_dates))\n",
    "print('Sequences lacking information: ', len(lacking))"
   ]
  },
  {
   "cell_type": "code",
   "execution_count": null,
   "metadata": {},
   "outputs": [],
   "source": [
    "def seq_hosts(file_path):\n",
    "    missing_hosts = []\n",
    "    hosts = []\n",
    "    genbank_records = SeqIO.parse(file_path, 'gb')\n",
    "    for record in genbank_records:\n",
    "        features = record.features\n",
    "        source_feature_list = [ i for i in features if i.type == 'source' ]\n",
    "\n",
    "        for i in source_feature_list:\n",
    "            qual_dict = i.qualifiers\n",
    "            if 'host' not in qual_dict.keys():\n",
    "                missing_hosts.append(record.id)\n",
    "            for key in qual_dict.keys():\n",
    "                if key == 'host':\n",
    "                    hosts.append(qual_dict[key])\n",
    "    "
   ]
  }
 ],
 "metadata": {
  "kernelspec": {
   "display_name": ".venv",
   "language": "python",
   "name": "python3"
  },
  "language_info": {
   "codemirror_mode": {
    "name": "ipython",
    "version": 3
   },
   "file_extension": ".py",
   "mimetype": "text/x-python",
   "name": "python",
   "nbconvert_exporter": "python",
   "pygments_lexer": "ipython3",
   "version": "3.11.8"
  }
 },
 "nbformat": 4,
 "nbformat_minor": 2
}
