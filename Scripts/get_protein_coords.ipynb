{
 "cells": [
  {
   "cell_type": "code",
   "execution_count": 6,
   "metadata": {},
   "outputs": [],
   "source": [
    "from Bio import SeqIO\n",
    "import pandas as pd"
   ]
  },
  {
   "cell_type": "markdown",
   "metadata": {},
   "source": [
    "Функция достаёт из генбанк-файла координаты mat_peptide, то есть белков в последовательности"
   ]
  },
  {
   "cell_type": "code",
   "execution_count": 7,
   "metadata": {},
   "outputs": [],
   "source": [
    "def extract_mat_peptides(genbank_file):\n",
    "    records = SeqIO.parse(genbank_file, \"genbank\")\n",
    "    mat_peptides = []\n",
    "\n",
    "    for record in records:\n",
    "        for feature in record.features:\n",
    "            if feature.type == \"mat_peptide\":\n",
    "                location = feature.location\n",
    "                product = feature.qualifiers.get('product', [''])[0]\n",
    "                mat_peptides.append({\n",
    "                    'Start': location.start+1,\n",
    "                    'End': location.end,\n",
    "                    'Product': product\n",
    "                })\n",
    "    protein_coordinates = pd.DataFrame(mat_peptides)\n",
    "    return protein_coordinates"
   ]
  },
  {
   "cell_type": "code",
   "execution_count": 8,
   "metadata": {},
   "outputs": [],
   "source": [
    "genbank_file = \"../Records/reference_sequence.gb\"\n",
    "protein_coordinates = extract_mat_peptides(genbank_file)\n",
    "protein_coordinates.to_csv('../Proteins/protein_coords.csv', index=False)"
   ]
  },
  {
   "cell_type": "code",
   "execution_count": 9,
   "metadata": {},
   "outputs": [
    {
     "data": {
      "text/html": [
       "<div>\n",
       "<style scoped>\n",
       "    .dataframe tbody tr th:only-of-type {\n",
       "        vertical-align: middle;\n",
       "    }\n",
       "\n",
       "    .dataframe tbody tr th {\n",
       "        vertical-align: top;\n",
       "    }\n",
       "\n",
       "    .dataframe thead th {\n",
       "        text-align: right;\n",
       "    }\n",
       "</style>\n",
       "<table border=\"1\" class=\"dataframe\">\n",
       "  <thead>\n",
       "    <tr style=\"text-align: right;\">\n",
       "      <th></th>\n",
       "      <th>Start</th>\n",
       "      <th>End</th>\n",
       "      <th>Product</th>\n",
       "    </tr>\n",
       "  </thead>\n",
       "  <tbody>\n",
       "    <tr>\n",
       "      <th>0</th>\n",
       "      <td>1</td>\n",
       "      <td>84</td>\n",
       "      <td>p20a</td>\n",
       "    </tr>\n",
       "    <tr>\n",
       "      <th>1</th>\n",
       "      <td>85</td>\n",
       "      <td>612</td>\n",
       "      <td>p16</td>\n",
       "    </tr>\n",
       "    <tr>\n",
       "      <th>2</th>\n",
       "      <td>613</td>\n",
       "      <td>858</td>\n",
       "      <td>VP4</td>\n",
       "    </tr>\n",
       "    <tr>\n",
       "      <th>3</th>\n",
       "      <td>859</td>\n",
       "      <td>1512</td>\n",
       "      <td>VP2</td>\n",
       "    </tr>\n",
       "    <tr>\n",
       "      <th>4</th>\n",
       "      <td>1513</td>\n",
       "      <td>2175</td>\n",
       "      <td>VP3</td>\n",
       "    </tr>\n",
       "    <tr>\n",
       "      <th>5</th>\n",
       "      <td>2176</td>\n",
       "      <td>2811</td>\n",
       "      <td>VP1</td>\n",
       "    </tr>\n",
       "    <tr>\n",
       "      <th>6</th>\n",
       "      <td>2812</td>\n",
       "      <td>4734</td>\n",
       "      <td>p52</td>\n",
       "    </tr>\n",
       "    <tr>\n",
       "      <th>7</th>\n",
       "      <td>4735</td>\n",
       "      <td>4803</td>\n",
       "      <td>putative VPg1</td>\n",
       "    </tr>\n",
       "    <tr>\n",
       "      <th>8</th>\n",
       "      <td>4804</td>\n",
       "      <td>4875</td>\n",
       "      <td>putative VPg2</td>\n",
       "    </tr>\n",
       "    <tr>\n",
       "      <th>9</th>\n",
       "      <td>4876</td>\n",
       "      <td>4947</td>\n",
       "      <td>putative VPg3</td>\n",
       "    </tr>\n",
       "    <tr>\n",
       "      <th>10</th>\n",
       "      <td>4948</td>\n",
       "      <td>5589</td>\n",
       "      <td>p20b</td>\n",
       "    </tr>\n",
       "    <tr>\n",
       "      <th>11</th>\n",
       "      <td>5590</td>\n",
       "      <td>6999</td>\n",
       "      <td>p56a</td>\n",
       "    </tr>\n",
       "  </tbody>\n",
       "</table>\n",
       "</div>"
      ],
      "text/plain": [
       "    Start   End        Product\n",
       "0       1    84           p20a\n",
       "1      85   612            p16\n",
       "2     613   858            VP4\n",
       "3     859  1512            VP2\n",
       "4    1513  2175            VP3\n",
       "5    2176  2811            VP1\n",
       "6    2812  4734            p52\n",
       "7    4735  4803  putative VPg1\n",
       "8    4804  4875  putative VPg2\n",
       "9    4876  4947  putative VPg3\n",
       "10   4948  5589           p20b\n",
       "11   5590  6999           p56a"
      ]
     },
     "execution_count": 9,
     "metadata": {},
     "output_type": "execute_result"
    }
   ],
   "source": [
    "protein_coordinates"
   ]
  },
  {
   "cell_type": "markdown",
   "metadata": {},
   "source": [
    "Функция достаёт первую последовательность из fasta файла с выравниванием, так как в данном случае первая последовательность является референсной"
   ]
  },
  {
   "cell_type": "code",
   "execution_count": 10,
   "metadata": {},
   "outputs": [],
   "source": [
    "def get_first_sequence(fasta_file):\n",
    "    with open(fasta_file, \"r\") as handle:\n",
    "        for record in SeqIO.parse(handle, \"fasta\"):\n",
    "            return str(record.seq)"
   ]
  },
  {
   "cell_type": "code",
   "execution_count": 11,
   "metadata": {},
   "outputs": [],
   "source": [
    "fasta_file = \"../filtered_CDS_alignment.fasta\"\n",
    "reference_sequence = get_first_sequence(fasta_file)"
   ]
  },
  {
   "cell_type": "markdown",
   "metadata": {},
   "source": [
    "Функция, по выравненной последовательности и по координатам белков в референсной последовательности, находит координаты этих белков в выравненной последовательности"
   ]
  },
  {
   "cell_type": "code",
   "execution_count": 12,
   "metadata": {},
   "outputs": [],
   "source": [
    "def find_gapped_positions(sequence, ungapped_coordinates):\n",
    "    gapped_coordinates = []\n",
    "    gapped_index = 0\n",
    "    for i, letter in enumerate(sequence):\n",
    "        if letter != \"-\":\n",
    "            gapped_index += 1\n",
    "            if gapped_index in ungapped_coordinates:\n",
    "                gapped_coordinates.append(i + 1)\n",
    "\n",
    "    seq = sequence[gapped_coordinates[0]-1:gapped_coordinates[1]]            \n",
    "    return seq, gapped_coordinates"
   ]
  },
  {
   "cell_type": "markdown",
   "metadata": {},
   "source": [
    "Функция преобразует результаты работы предыдущей функции в таблицу"
   ]
  },
  {
   "cell_type": "code",
   "execution_count": 13,
   "metadata": {},
   "outputs": [],
   "source": [
    "def process_table(table, sequence):\n",
    "    results = []\n",
    "    for index, row in table.iterrows():\n",
    "        start = row['Start']\n",
    "        end = row['End']\n",
    "        product = row['Product']\n",
    "        ungapped_coordinates = list((start, end))\n",
    "        seq, gapped_coordinates = find_gapped_positions(sequence, ungapped_coordinates)\n",
    "        results.append({\n",
    "            'Product': product,\n",
    "            'Sequence': seq,\n",
    "            'Gapped_Coordinates': gapped_coordinates\n",
    "        })\n",
    "    results = pd.DataFrame(results)\n",
    "    return results"
   ]
  },
  {
   "cell_type": "code",
   "execution_count": 14,
   "metadata": {},
   "outputs": [],
   "source": [
    "results = process_table(protein_coordinates, reference_sequence)"
   ]
  },
  {
   "cell_type": "code",
   "execution_count": 15,
   "metadata": {},
   "outputs": [],
   "source": [
    "results.to_csv('../Proteins/gapped_protein_coords.csv', index=False)"
   ]
  }
 ],
 "metadata": {
  "kernelspec": {
   "display_name": "Python 3",
   "language": "python",
   "name": "python3"
  },
  "language_info": {
   "codemirror_mode": {
    "name": "ipython",
    "version": 3
   },
   "file_extension": ".py",
   "mimetype": "text/x-python",
   "name": "python",
   "nbconvert_exporter": "python",
   "pygments_lexer": "ipython3",
   "version": "3.11.7"
  }
 },
 "nbformat": 4,
 "nbformat_minor": 2
}
