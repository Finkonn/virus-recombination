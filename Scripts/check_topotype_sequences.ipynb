{
 "cells": [
  {
   "cell_type": "code",
   "execution_count": 17,
   "metadata": {},
   "outputs": [],
   "source": [
    "import pandas as pd\n",
    "from Bio import SeqIO\n",
    "\n",
    "fastas = SeqIO.parse('../Sequences/filtered_alignment_no_ambiguous_fewer_gaps.fasta', 'fasta')\n",
    "fasta_accessions = set()\n",
    "for fasta in fastas:\n",
    "    fasta_accessions.add(fasta.id.split('/')[0])\n",
    "\n",
    "df = pd.read_excel('../classification.xlsx')\n",
    "\n",
    "df['Match'] = df['Accession no.'].apply(lambda x: 'Yes' if x in fasta_accessions else 'No')\n",
    "\n",
    "df.to_excel('../classification.xlsx', index=False)"
   ]
  },
  {
   "cell_type": "code",
   "execution_count": null,
   "metadata": {},
   "outputs": [],
   "source": [
    "df = pd.read_excel('../classification.xlsx')\n",
    "\n",
    "accessions = set()\n",
    "for num, value in enumerate(df['Match']):\n",
    "    if value == 'Yes':\n",
    "        accessions.add(df['Accession no.'].iloc[num])\n",
    "\n",
    "accessions"
   ]
  },
  {
   "cell_type": "code",
   "execution_count": 23,
   "metadata": {},
   "outputs": [],
   "source": [
    "new_color = \"#FF0000\"  #Red\n",
    "\n",
    "with open('../not_colored_nexus_VP1.nexus', 'r') as file:\n",
    "    nexus_lines = file.readlines()\n",
    "\n",
    "with open('updated_nexus_file.nexus', 'w') as output_file:\n",
    "    for line in nexus_lines:\n",
    "        if line.strip().startswith(tuple(accessions)):\n",
    "            # If the accession number matches, change the color\n",
    "            start = line.find(\"[&!color=\")\n",
    "            if start != -1:\n",
    "                end = line.find(\"]\", start)\n",
    "                if end != -1:\n",
    "                    line = line[:start + 9] + new_color + line[end:]\n",
    "        output_file.write(line)"
   ]
  }
 ],
 "metadata": {
  "kernelspec": {
   "display_name": "base",
   "language": "python",
   "name": "python3"
  },
  "language_info": {
   "codemirror_mode": {
    "name": "ipython",
    "version": 3
   },
   "file_extension": ".py",
   "mimetype": "text/x-python",
   "name": "python",
   "nbconvert_exporter": "python",
   "pygments_lexer": "ipython3",
   "version": "3.11.7"
  }
 },
 "nbformat": 4,
 "nbformat_minor": 2
}
