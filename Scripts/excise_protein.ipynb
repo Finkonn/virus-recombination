{
 "cells": [
  {
   "cell_type": "code",
   "execution_count": 28,
   "metadata": {},
   "outputs": [],
   "source": [
    "import pandas as pd\n",
    "import ast\n",
    "from Bio import SeqIO"
   ]
  },
  {
   "cell_type": "markdown",
   "metadata": {},
   "source": [
    "The function takes as input an alignment file, the start and end coordinates of a protein, and extracts the sequence of this protein from all sequences."
   ]
  },
  {
   "cell_type": "code",
   "execution_count": 29,
   "metadata": {},
   "outputs": [],
   "source": [
    "def extract_sequences_by_coordinates(input_fasta, output_fasta, start, end):\n",
    "    # Open input and output FASTA files\n",
    "    with open(input_fasta, \"r\") as infile, open(output_fasta, \"w\") as outfile:\n",
    "        # Parse input FASTA file\n",
    "        for record in SeqIO.parse(infile, \"fasta\"):\n",
    "            # Extract sequence based on coordinates\n",
    "            extracted_seq = record.seq[start-1:end]  # Adjust for 0-based indexing\n",
    "\n",
    "            # Write the extracted sequence to the output file with the original header\n",
    "            outfile.write(f\">{record.id}\\n\")\n",
    "            outfile.write(f\"{extracted_seq}\\n\")"
   ]
  },
  {
   "cell_type": "code",
   "execution_count": 30,
   "metadata": {},
   "outputs": [],
   "source": [
    "gapped_coords = pd.read_csv('../gapped_protein_coords.csv')\n",
    "VP1_coords = gapped_coords.loc[gapped_coords['Product'] == 'VP1', 'Gapped_Coordinates'].values[0]\n",
    "VP1_coords = ast.literal_eval(VP1_coords)"
   ]
  },
  {
   "cell_type": "code",
   "execution_count": 31,
   "metadata": {},
   "outputs": [],
   "source": [
    "input_fasta = \"../filtered_CDS_alignment.fasta\"\n",
    "output_fasta = \"../aln_repo/VP1.fasta\"\n",
    "start_coordinate = VP1_coords[0]\n",
    "end_coordinate = VP1_coords[1]"
   ]
  },
  {
   "cell_type": "code",
   "execution_count": 32,
   "metadata": {},
   "outputs": [],
   "source": [
    "extract_sequences_by_coordinates(input_fasta, output_fasta, start_coordinate, end_coordinate)"
   ]
  }
 ],
 "metadata": {
  "kernelspec": {
   "display_name": "Python 3",
   "language": "python",
   "name": "python3"
  },
  "language_info": {
   "codemirror_mode": {
    "name": "ipython",
    "version": 3
   },
   "file_extension": ".py",
   "mimetype": "text/x-python",
   "name": "python",
   "nbconvert_exporter": "python",
   "pygments_lexer": "ipython3",
   "version": "3.11.9"
  }
 },
 "nbformat": 4,
 "nbformat_minor": 2
}
