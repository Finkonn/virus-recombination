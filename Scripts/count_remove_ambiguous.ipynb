{
 "cells": [
  {
   "cell_type": "code",
   "execution_count": 1,
   "metadata": {},
   "outputs": [],
   "source": [
    "from Bio import SeqIO\n",
    "import os"
   ]
  },
  {
   "cell_type": "code",
   "execution_count": 13,
   "metadata": {},
   "outputs": [],
   "source": [
    "def has_ambiguous_nucleotides(sequence):\n",
    "    ambiguous_nucleotides = {'N', 'R', 'Y', 'S', 'W', 'K', 'M', 'B', 'D', 'H', 'V'}\n",
    "    for nucleotide in sequence:\n",
    "        if nucleotide.upper() in ambiguous_nucleotides:\n",
    "            return True\n",
    "    return False\n",
    "\n",
    "def filter_sequences(input_file, output_file):\n",
    "    with open(output_file, 'w') as out_handle:\n",
    "        for record in SeqIO.parse(input_file, 'fasta'):\n",
    "            sequence = str(record.seq)\n",
    "            if not has_ambiguous_nucleotides(sequence):\n",
    "                SeqIO.write(record, out_handle, 'fasta')\n",
    "\n",
    "#input_file = 'extracted_CDS_full.fasta'\n",
    "#output_file = 'CDS_no_ambiguous.fasta'\n",
    "#filter_sequences(input_file, output_file)"
   ]
  },
  {
   "cell_type": "code",
   "execution_count": 7,
   "metadata": {},
   "outputs": [],
   "source": [
    "def count_sequences_with_ambiguous_nucleotides(input_file):\n",
    "    ambiguous_nucleotides = {'N', 'R', 'Y', 'S', 'W', 'K', 'M', 'B', 'D', 'H', 'V'}\n",
    "    count = 0\n",
    "    for record in SeqIO.parse(input_file, 'fasta'):\n",
    "        sequence = str(record.seq)\n",
    "        ambiguous_in_sequence = False\n",
    "        for nucleotide in sequence:\n",
    "            if nucleotide.upper() in ambiguous_nucleotides:\n",
    "                ambiguous_in_sequence = True\n",
    "                break  # Once we find an ambiguous nucleotide, no need to check further\n",
    "        if ambiguous_in_sequence:\n",
    "            count += 1\n",
    "    return count"
   ]
  },
  {
   "cell_type": "code",
   "execution_count": 10,
   "metadata": {},
   "outputs": [
    {
     "name": "stdout",
     "output_type": "stream",
     "text": [
      "Number of sequences with ambiguous nucleotides: 257\n"
     ]
    }
   ],
   "source": [
    "input_file = os.path.join('..', 'filtered_CDS_alignment.fasta')\n",
    "print(\"Number of sequences with ambiguous nucleotides:\", count_sequences_with_ambiguous_nucleotides(input_file))"
   ]
  }
 ],
 "metadata": {
  "kernelspec": {
   "display_name": "Python 3",
   "language": "python",
   "name": "python3"
  },
  "language_info": {
   "codemirror_mode": {
    "name": "ipython",
    "version": 3
   },
   "file_extension": ".py",
   "mimetype": "text/x-python",
   "name": "python",
   "nbconvert_exporter": "python",
   "pygments_lexer": "ipython3",
   "version": "3.11.9"
  }
 },
 "nbformat": 4,
 "nbformat_minor": 2
}
